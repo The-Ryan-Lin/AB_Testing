{
 "cells": [
  {
   "cell_type": "markdown",
   "id": "0e20f751",
   "metadata": {},
   "source": [
    "# Advanced Analytics for Organisational Impact: AB Testing"
   ]
  },
  {
   "cell_type": "markdown",
   "id": "3b469980",
   "metadata": {},
   "source": [
    "## 1. Design and set up an A/B test"
   ]
  },
  {
   "cell_type": "markdown",
   "id": "6dd63b43",
   "metadata": {},
   "source": [
    "#### *AB Testing* \n",
    "\n",
    "In this exercise, I perform A/B testing using Python on a real-life scenario (adapted from Fillinich 2020):\n",
    "\n",
    "An expanding e-commerce company wants to test a new version of its home page. The company has put together a new layout or design that they hope will increase its conversion rate. The conversion rate is a key metric, as it refers to the percentage of visitors that take a desired action on the website. In this case, that desired action is clicking through to the product page.\n",
    "The company's previous home page had a conversion rate of only 13%. The company is hoping that the new design will increase the conversion rate by at least 2%. For the business to meet their target here, the conversion rate needs to improve from 13% to at least 15%.\n",
    "\n",
    "Here, we use an A/B test to determine if the conversion rate will indeed go up or down by 2%."
   ]
  },
  {
   "cell_type": "markdown",
   "id": "0c384b3f",
   "metadata": {},
   "source": [
    "#### *Data Used* \n",
    "\n",
    "Information regarding the dataset used can be found below:\n",
    "\n",
    "| Column name                 | Description                                                    |\n",
    "|-----------------------------|----------------------------------------------------------------|\n",
    "| user_id (integer)           | The identification number of the user (e.g. 851104).          |\n",
    "| timestamp (Python object)   | When the user was in the session (e.g. 2017-01-21 22:11:48.556739). |\n",
    "| group (Python object)       | Which sample group the user was part of (e.g. control or treatment). |\n",
    "| landing_page (Python object)| Which version of the home page the user saw (e.g. old_page or new_page). |\n",
    "| converted (integer)         | Whether the user performed a desired action or not (e.g. 0 or 1). |\n"
   ]
  },
  {
   "cell_type": "markdown",
   "id": "0545bee8",
   "metadata": {},
   "source": [
    "# "
   ]
  },
  {
   "cell_type": "code",
   "execution_count": 1,
   "id": "c7066f85",
   "metadata": {},
   "outputs": [],
   "source": [
    "# Set working Directory\n",
    "# import os\n",
    "# os.chdir('/Volumes/GoogleDrive/My Drive/LSE Data Analytics/Course 3 - Advanced Analytics for Organisational Impact /LSE_DA301_Module_1_files/Data')"
   ]
  },
  {
   "cell_type": "markdown",
   "id": "72d0006c",
   "metadata": {},
   "source": [
    "## 2. Conduct a power analysis"
   ]
  },
  {
   "cell_type": "markdown",
   "id": "d37efb10",
   "metadata": {},
   "source": [
    "Power analysis helps you determine the sample size required for your A/B test to achieve a desired level of statistical power, which is the probability of correctly detecting an effect when it truly exists."
   ]
  },
  {
   "cell_type": "markdown",
   "id": "363df2cb",
   "metadata": {},
   "source": [
    "* __PA__: Population roportion of the old group that converts from the old landing page\n",
    "* __PB__: Population proportion that convert for the new landing page </br>\n",
    "\n",
    "1. __Define The Hypotheses:__\n",
    "\n",
    "* __Null hypothesis (H0):__ There is no significant difference between the groups, where PA = PB or PA - PB = 0\n",
    "* __Alternative hypothesis (Ha):__ There is a significant difference, where PA ≠ PB or PA - PB ≠ 0\n",
    "\n",
    "2. __Choose Significance Level (Alpha):__\n",
    "\n",
    "* Usually set at 0.05. This is the probability of a Type 1 error, which represents the threshold for statistical significance. \n",
    "* If the p-value calculated in the test is less than α, you reject the null hypothesis.\n",
    "\n",
    "3. __Determine Effect Size:__\n",
    "\n",
    "* The effect size represents the practical or meaningful difference you want to detect between the groups. \n",
    "* Here we set the effect size is set at 2%, a 2% increase or decrease in conversions. \n",
    "\n",
    "4. __Select Desired Power Level (1 - β):__\n",
    "\n",
    "* Choose the desired power level (1 - β), typically set at 0.80 or 0.90. \n",
    "* This is the probability of correctly rejecting the false null hypothesis i.e. the probability of correctly detecting an effect if it exists. Higher power levels will require larger sample sizes.\n",
    "\n",
    "5. __Choose a Statistical Test:__\n",
    "\n",
    "* Determine which statistical test you'll use for your A/B test based on the nature of your data (e.g., t-test, chi-squared test, etc.).\n",
    "* Here we use the t-test.\n",
    "\n",
    "6. __Perform Power Analysis:__\n",
    "\n",
    "* Here we use a power analysis calculator to calculate the required sample size based on the chosen significance level, effect size, and desired power level. The power analysis gives you the minimum sample size needed to achieve your goals.\n",
    "\n",
    "7. __Sample Size Adjustment:__\n",
    "\n",
    "* Adjust the calculated sample size if needed for practical reasons or budget constraints. It's essential to balance the desired sample size with resource limitations.\n"
   ]
  },
  {
   "cell_type": "code",
   "execution_count": 2,
   "id": "5ba7e8c0",
   "metadata": {
    "scrolled": false
   },
   "outputs": [
    {
     "name": "stdout",
     "output_type": "stream",
     "text": [
      "Sample Size: 4720.435\n"
     ]
    },
    {
     "name": "stderr",
     "output_type": "stream",
     "text": [
      "/Users/RyanLin/anaconda3/lib/python3.11/site-packages/scipy/stats/_continuous_distns.py:6832: RuntimeWarning: invalid value encountered in _nct_sf\n",
      "  return np.clip(_boost._nct_sf(x, df, nc), 0, 1)\n",
      "/Users/RyanLin/anaconda3/lib/python3.11/site-packages/scipy/stats/_continuous_distns.py:6826: RuntimeWarning: invalid value encountered in _nct_cdf\n",
      "  return np.clip(_boost._nct_cdf(x, df, nc), 0, 1)\n"
     ]
    }
   ],
   "source": [
    "# Import statsmodel for statistical calculations and \n",
    "# TTestIndPower class to calculate the parameters.\n",
    "import statsmodels.stats.api as sms\n",
    "from statsmodels.stats.power import TTestIndPower\n",
    "\n",
    "# Specify the three required parameters for the power analysis:\n",
    "alpha = 0.05 \n",
    "power = 0.80 \n",
    "effect = sms.proportion_effectsize(0.13, 0.15) #e.g old and new coversion rate\n",
    "\n",
    "\n",
    "# Perform power analysis by using the solve_power() function:\n",
    "# Specify an instance of TTestIndPower.\n",
    "analysis = TTestIndPower() \n",
    "\n",
    "# Calculate the sample size and list the parameters. \n",
    "# ratio ensures sample sizes are equal the a and the b group.\n",
    "result = analysis.solve_power(effect, power=power, nobs1=None,\n",
    "                              ratio=1.0 , alpha=alpha) \n",
    "\n",
    "# Print the output.\n",
    "print('Sample Size: %.3f' % result)"
   ]
  },
  {
   "cell_type": "markdown",
   "id": "985ec833",
   "metadata": {},
   "source": [
    "__ratio=1.0__ ensures the sample size are equal in the A and B group.\n",
    "\n",
    "Sample Size of 4720.435 represents the absolute minimum (n) of the sample size to ensure the specefic criteria we specefied with regards to the sigicinance level and power with the 2% effect size. \n",
    "\n",
    "The minimum sample size required: 4721 (round the value up)"
   ]
  },
  {
   "cell_type": "markdown",
   "id": "7f7b232a",
   "metadata": {},
   "source": [
    "__What if we want to increase the power from 0.80 to 0.90?: This would reduce the probability of the type 2 error down to 10%.__\n",
    "\n",
    "Having a larger power is a benefit, but at comes at a cost of a larger minimum sample size required."
   ]
  },
  {
   "cell_type": "code",
   "execution_count": 3,
   "id": "9ecd034f",
   "metadata": {},
   "outputs": [
    {
     "name": "stdout",
     "output_type": "stream",
     "text": [
      "Sample Size: 6319.011\n"
     ]
    }
   ],
   "source": [
    "# Import statsmodel for statistical calculations and \n",
    "# TTestIndPower class to calculate the parameters.\n",
    "import statsmodels.stats.api as sms\n",
    "from statsmodels.stats.power import TTestIndPower\n",
    "\n",
    "# Specify the three required parameters for the power analysis:\n",
    "alpha = 0.05 \n",
    "power = 0.90 \n",
    "effect = sms.proportion_effectsize(0.13, 0.15) \n",
    "\n",
    "# Perform power analysis by using the solve_power() function:\n",
    "# Specify an instance of TTestIndPower.\n",
    "analysis = TTestIndPower() \n",
    "\n",
    "# Calculate the sample size and list the parameters.\n",
    "result = analysis.solve_power(effect, power=power, nobs1=None,\n",
    "                              ratio=1.0, alpha=alpha) \n",
    "\n",
    "# Print the output.\n",
    "print('Sample Size: %.3f' % result)"
   ]
  },
  {
   "cell_type": "markdown",
   "id": "098caecb",
   "metadata": {},
   "source": [
    "## 3. Preparing the data"
   ]
  },
  {
   "cell_type": "code",
   "execution_count": 4,
   "id": "3d35e010",
   "metadata": {},
   "outputs": [
    {
     "name": "stdout",
     "output_type": "stream",
     "text": [
      "Requirement already satisfied: scipy in /Users/RyanLin/anaconda3/lib/python3.11/site-packages (1.10.1)\r\n",
      "Requirement already satisfied: numpy<1.27.0,>=1.19.5 in /Users/RyanLin/anaconda3/lib/python3.11/site-packages (from scipy) (1.24.3)\r\n"
     ]
    }
   ],
   "source": [
    "# Install scipy.\n",
    "!pip install scipy"
   ]
  },
  {
   "cell_type": "code",
   "execution_count": 5,
   "id": "ba0b1b5d",
   "metadata": {},
   "outputs": [],
   "source": [
    "# Import necessary libraries, packages and classes.\n",
    "import pandas as pd\n",
    "import math\n",
    "import numpy as np\n",
    "import statsmodels.stats.api as sms\n",
    "import scipy.stats as st\n",
    "import matplotlib as mpl\n",
    "import matplotlib.pyplot as plt"
   ]
  },
  {
   "cell_type": "code",
   "execution_count": 6,
   "id": "270a80d0",
   "metadata": {},
   "outputs": [
    {
     "data": {
      "text/html": [
       "<div>\n",
       "<style scoped>\n",
       "    .dataframe tbody tr th:only-of-type {\n",
       "        vertical-align: middle;\n",
       "    }\n",
       "\n",
       "    .dataframe tbody tr th {\n",
       "        vertical-align: top;\n",
       "    }\n",
       "\n",
       "    .dataframe thead th {\n",
       "        text-align: right;\n",
       "    }\n",
       "</style>\n",
       "<table border=\"1\" class=\"dataframe\">\n",
       "  <thead>\n",
       "    <tr style=\"text-align: right;\">\n",
       "      <th></th>\n",
       "      <th>user_id</th>\n",
       "      <th>timestamp</th>\n",
       "      <th>group</th>\n",
       "      <th>landing_page</th>\n",
       "      <th>converted</th>\n",
       "    </tr>\n",
       "  </thead>\n",
       "  <tbody>\n",
       "    <tr>\n",
       "      <th>0</th>\n",
       "      <td>851104</td>\n",
       "      <td>2017-01-21 22:11:48.556739</td>\n",
       "      <td>control</td>\n",
       "      <td>old_page</td>\n",
       "      <td>0</td>\n",
       "    </tr>\n",
       "    <tr>\n",
       "      <th>1</th>\n",
       "      <td>804228</td>\n",
       "      <td>2017-01-12 08:01:45.159739</td>\n",
       "      <td>control</td>\n",
       "      <td>old_page</td>\n",
       "      <td>0</td>\n",
       "    </tr>\n",
       "    <tr>\n",
       "      <th>2</th>\n",
       "      <td>661590</td>\n",
       "      <td>2017-01-11 16:55:06.154213</td>\n",
       "      <td>treatment</td>\n",
       "      <td>new_page</td>\n",
       "      <td>0</td>\n",
       "    </tr>\n",
       "    <tr>\n",
       "      <th>3</th>\n",
       "      <td>853541</td>\n",
       "      <td>2017-01-08 18:28:03.143765</td>\n",
       "      <td>treatment</td>\n",
       "      <td>new_page</td>\n",
       "      <td>0</td>\n",
       "    </tr>\n",
       "    <tr>\n",
       "      <th>4</th>\n",
       "      <td>864975</td>\n",
       "      <td>2017-01-21 01:52:26.210827</td>\n",
       "      <td>control</td>\n",
       "      <td>old_page</td>\n",
       "      <td>1</td>\n",
       "    </tr>\n",
       "  </tbody>\n",
       "</table>\n",
       "</div>"
      ],
      "text/plain": [
       "   user_id                   timestamp      group landing_page  converted\n",
       "0   851104  2017-01-21 22:11:48.556739    control     old_page          0\n",
       "1   804228  2017-01-12 08:01:45.159739    control     old_page          0\n",
       "2   661590  2017-01-11 16:55:06.154213  treatment     new_page          0\n",
       "3   853541  2017-01-08 18:28:03.143765  treatment     new_page          0\n",
       "4   864975  2017-01-21 01:52:26.210827    control     old_page          1"
      ]
     },
     "execution_count": 6,
     "metadata": {},
     "output_type": "execute_result"
    }
   ],
   "source": [
    "# Read the CSV file (ab_data.csv).\n",
    "df = pd.read_csv('ab_data.csv')\n",
    "\n",
    "# View the DataFrame.\n",
    "df.head()"
   ]
  },
  {
   "cell_type": "code",
   "execution_count": 7,
   "id": "217850f1",
   "metadata": {},
   "outputs": [
    {
     "name": "stdout",
     "output_type": "stream",
     "text": [
      "<class 'pandas.core.frame.DataFrame'>\n",
      "RangeIndex: 294478 entries, 0 to 294477\n",
      "Data columns (total 5 columns):\n",
      " #   Column        Non-Null Count   Dtype \n",
      "---  ------        --------------   ----- \n",
      " 0   user_id       294478 non-null  int64 \n",
      " 1   timestamp     294478 non-null  object\n",
      " 2   group         294478 non-null  object\n",
      " 3   landing_page  294478 non-null  object\n",
      " 4   converted     294478 non-null  int64 \n",
      "dtypes: int64(2), object(3)\n",
      "memory usage: 11.2+ MB\n"
     ]
    }
   ],
   "source": [
    "# Check the metadata. 294478 entries.\n",
    "df.info()"
   ]
  },
  {
   "cell_type": "code",
   "execution_count": 8,
   "id": "ecb5b4b3",
   "metadata": {},
   "outputs": [
    {
     "name": "stdout",
     "output_type": "stream",
     "text": [
      "        user_id                   timestamp      group landing_page  converted\n",
      "2656     698120  2017-01-15 17:13:42.602796    control     old_page          0\n",
      "2893     773192  2017-01-14 02:55:59.590927  treatment     new_page          0\n",
      "7500     899953  2017-01-07 03:06:54.068237    control     new_page          0\n",
      "8036     790934  2017-01-19 08:32:20.329057  treatment     new_page          0\n",
      "10218    633793  2017-01-17 00:16:00.746561  treatment     old_page          0\n",
      "...         ...                         ...        ...          ...        ...\n",
      "294308   905197  2017-01-03 06:56:47.488231  treatment     new_page          0\n",
      "294309   787083  2017-01-17 00:15:20.950723    control     old_page          0\n",
      "294328   641570  2017-01-09 21:59:27.695711    control     old_page          0\n",
      "294331   689637  2017-01-13 11:34:28.339532    control     new_page          0\n",
      "294355   744456  2017-01-13 09:32:07.106794  treatment     new_page          0\n",
      "\n",
      "[3894 rows x 5 columns]\n"
     ]
    }
   ],
   "source": [
    "# Check for duplicates.\n",
    "# Using Pandas's duplicated() function to check the user_id column. \n",
    "print(df[df.user_id.duplicated()])"
   ]
  },
  {
   "cell_type": "code",
   "execution_count": 9,
   "id": "d545acbb",
   "metadata": {},
   "outputs": [
    {
     "name": "stdout",
     "output_type": "stream",
     "text": [
      "<class 'pandas.core.frame.DataFrame'>\n",
      "Int64Index: 290584 entries, 0 to 294477\n",
      "Data columns (total 5 columns):\n",
      " #   Column        Non-Null Count   Dtype \n",
      "---  ------        --------------   ----- \n",
      " 0   user_id       290584 non-null  int64 \n",
      " 1   timestamp     290584 non-null  object\n",
      " 2   group         290584 non-null  object\n",
      " 3   landing_page  290584 non-null  object\n",
      " 4   converted     290584 non-null  int64 \n",
      "dtypes: int64(2), object(3)\n",
      "memory usage: 13.3+ MB\n"
     ]
    }
   ],
   "source": [
    "# Drop duplicate values.\n",
    "# Use drop_duplicates to return the Series without the duplicate values.\n",
    "df2 = df.drop_duplicates(subset = 'user_id') \n",
    "\n",
    "# Check the metadata.\n",
    "df2.info()"
   ]
  },
  {
   "cell_type": "code",
   "execution_count": 10,
   "id": "c0d8a8ff",
   "metadata": {
    "scrolled": true
   },
   "outputs": [
    {
     "data": {
      "text/html": [
       "<div>\n",
       "<style scoped>\n",
       "    .dataframe tbody tr th:only-of-type {\n",
       "        vertical-align: middle;\n",
       "    }\n",
       "\n",
       "    .dataframe tbody tr th {\n",
       "        vertical-align: top;\n",
       "    }\n",
       "\n",
       "    .dataframe thead th {\n",
       "        text-align: right;\n",
       "    }\n",
       "</style>\n",
       "<table border=\"1\" class=\"dataframe\">\n",
       "  <thead>\n",
       "    <tr style=\"text-align: right;\">\n",
       "      <th></th>\n",
       "      <th>group</th>\n",
       "      <th>landing_page</th>\n",
       "      <th>converted</th>\n",
       "    </tr>\n",
       "  </thead>\n",
       "  <tbody>\n",
       "    <tr>\n",
       "      <th>0</th>\n",
       "      <td>control</td>\n",
       "      <td>old_page</td>\n",
       "      <td>0</td>\n",
       "    </tr>\n",
       "    <tr>\n",
       "      <th>1</th>\n",
       "      <td>control</td>\n",
       "      <td>old_page</td>\n",
       "      <td>0</td>\n",
       "    </tr>\n",
       "    <tr>\n",
       "      <th>2</th>\n",
       "      <td>treatment</td>\n",
       "      <td>new_page</td>\n",
       "      <td>0</td>\n",
       "    </tr>\n",
       "    <tr>\n",
       "      <th>3</th>\n",
       "      <td>treatment</td>\n",
       "      <td>new_page</td>\n",
       "      <td>0</td>\n",
       "    </tr>\n",
       "    <tr>\n",
       "      <th>4</th>\n",
       "      <td>control</td>\n",
       "      <td>old_page</td>\n",
       "      <td>1</td>\n",
       "    </tr>\n",
       "  </tbody>\n",
       "</table>\n",
       "</div>"
      ],
      "text/plain": [
       "       group landing_page  converted\n",
       "0    control     old_page          0\n",
       "1    control     old_page          0\n",
       "2  treatment     new_page          0\n",
       "3  treatment     new_page          0\n",
       "4    control     old_page          1"
      ]
     },
     "execution_count": 10,
     "metadata": {},
     "output_type": "execute_result"
    }
   ],
   "source": [
    "# Remove unnecessary columns.\n",
    "# dropped.drop to remove irrelevant columns from the DataFrame. \n",
    "# Specify that user_id and timestamp are unnecessary columns (i.e. axis 1). \n",
    "df3 = df2.drop(['user_id', 'timestamp'], axis=1)  \n",
    "\n",
    "# Check the DataFrame.\n",
    "df3.head()"
   ]
  },
  {
   "cell_type": "markdown",
   "id": "f3d404af",
   "metadata": {},
   "source": [
    "### Checking for errors (Cross-Tabulation)"
   ]
  },
  {
   "cell_type": "markdown",
   "id": "e4d1491f",
   "metadata": {},
   "source": [
    "People in the old group should have viewed the old page and people in the treatment group should have viewed the treatment page. A cross-tabulation analysis is used to calcuate the error present in this dataset."
   ]
  },
  {
   "cell_type": "code",
   "execution_count": 11,
   "id": "b5f23a66",
   "metadata": {},
   "outputs": [
    {
     "data": {
      "text/html": [
       "<div>\n",
       "<style scoped>\n",
       "    .dataframe tbody tr th:only-of-type {\n",
       "        vertical-align: middle;\n",
       "    }\n",
       "\n",
       "    .dataframe tbody tr th {\n",
       "        vertical-align: top;\n",
       "    }\n",
       "\n",
       "    .dataframe thead th {\n",
       "        text-align: right;\n",
       "    }\n",
       "</style>\n",
       "<table border=\"1\" class=\"dataframe\">\n",
       "  <thead>\n",
       "    <tr style=\"text-align: right;\">\n",
       "      <th>landing_page</th>\n",
       "      <th>new_page</th>\n",
       "      <th>old_page</th>\n",
       "    </tr>\n",
       "    <tr>\n",
       "      <th>group</th>\n",
       "      <th></th>\n",
       "      <th></th>\n",
       "    </tr>\n",
       "  </thead>\n",
       "  <tbody>\n",
       "    <tr>\n",
       "      <th>control</th>\n",
       "      <td>1006</td>\n",
       "      <td>144226</td>\n",
       "    </tr>\n",
       "    <tr>\n",
       "      <th>treatment</th>\n",
       "      <td>144314</td>\n",
       "      <td>1038</td>\n",
       "    </tr>\n",
       "  </tbody>\n",
       "</table>\n",
       "</div>"
      ],
      "text/plain": [
       "landing_page  new_page  old_page\n",
       "group                           \n",
       "control           1006    144226\n",
       "treatment       144314      1038"
      ]
     },
     "execution_count": 11,
     "metadata": {},
     "output_type": "execute_result"
    }
   ],
   "source": [
    "# Check for errors.\n",
    "# Use crosstab to compute a simple cross-tabulation between two variables.\n",
    "pd.crosstab(df3['group'], df3['landing_page'])"
   ]
  },
  {
   "cell_type": "markdown",
   "id": "a1ae8e8d",
   "metadata": {},
   "source": [
    "Everyone is the control group should have seen the old landing page\n",
    "* 1006 people in the control group saw the new page </br>\n",
    "\n",
    "Everyone in the treatment group should have seen the new page\n",
    "* 1038 people in the treatment group saw the old page"
   ]
  },
  {
   "cell_type": "code",
   "execution_count": 12,
   "id": "a7382746",
   "metadata": {},
   "outputs": [
    {
     "name": "stdout",
     "output_type": "stream",
     "text": [
      "(288540, 3)\n"
     ]
    },
    {
     "data": {
      "text/plain": [
       "treatment    144314\n",
       "control      144226\n",
       "Name: group, dtype: int64"
      ]
     },
     "execution_count": 12,
     "metadata": {},
     "output_type": "execute_result"
    }
   ],
   "source": [
    "# Specify groups to be dropped. Retain the correct number of individuals who saw the correct page. \n",
    "df4 = df3[((df3.group == 'control') & (df3.landing_page == 'old_page')) | (\n",
    "    (df3.group == 'treatment') & (df3.landing_page == 'new_page'))]\n",
    "\n",
    "# Print the shape of the new final table.\n",
    "print(df4.shape)\n",
    "df4['group'].value_counts()"
   ]
  },
  {
   "cell_type": "code",
   "execution_count": 13,
   "id": "eb56f504",
   "metadata": {},
   "outputs": [
    {
     "data": {
      "text/html": [
       "<div>\n",
       "<style scoped>\n",
       "    .dataframe tbody tr th:only-of-type {\n",
       "        vertical-align: middle;\n",
       "    }\n",
       "\n",
       "    .dataframe tbody tr th {\n",
       "        vertical-align: top;\n",
       "    }\n",
       "\n",
       "    .dataframe thead th {\n",
       "        text-align: right;\n",
       "    }\n",
       "</style>\n",
       "<table border=\"1\" class=\"dataframe\">\n",
       "  <thead>\n",
       "    <tr style=\"text-align: right;\">\n",
       "      <th>landing_page</th>\n",
       "      <th>new_page</th>\n",
       "      <th>old_page</th>\n",
       "    </tr>\n",
       "    <tr>\n",
       "      <th>group</th>\n",
       "      <th></th>\n",
       "      <th></th>\n",
       "    </tr>\n",
       "  </thead>\n",
       "  <tbody>\n",
       "    <tr>\n",
       "      <th>control</th>\n",
       "      <td>0</td>\n",
       "      <td>144226</td>\n",
       "    </tr>\n",
       "    <tr>\n",
       "      <th>treatment</th>\n",
       "      <td>144314</td>\n",
       "      <td>0</td>\n",
       "    </tr>\n",
       "  </tbody>\n",
       "</table>\n",
       "</div>"
      ],
      "text/plain": [
       "landing_page  new_page  old_page\n",
       "group                           \n",
       "control              0    144226\n",
       "treatment       144314         0"
      ]
     },
     "execution_count": 13,
     "metadata": {},
     "output_type": "execute_result"
    }
   ],
   "source": [
    "# Re-check/compute another simple cross-tabulation.\n",
    "pd.crosstab(df4['group'], df4['landing_page'])"
   ]
  },
  {
   "cell_type": "markdown",
   "id": "def09144",
   "metadata": {},
   "source": [
    "## 4. Perform random sampling with Pandas"
   ]
  },
  {
   "cell_type": "code",
   "execution_count": 14,
   "id": "d9940bdd",
   "metadata": {},
   "outputs": [],
   "source": [
    "# Obtain a simple random sample (Every member of the population has an\n",
    "# equal chance of being included) for control and treatment groups with n = 4721; \n",
    "# set random_stategenerator seed at an arbitrary value of 22.\n",
    "# Obtain a simple random sample for the control group.\n",
    "control_sample = df4[df4['group'] == 'control'].sample(n=4721, \n",
    "                                                       random_state=22) \n",
    "\n",
    "# Obtain a simple random sample for the treatment group.\n",
    "treatment_sample = df4[df4['group'] == 'treatment'].sample(n=4721,\n",
    "                                                           random_state=22)"
   ]
  },
  {
   "cell_type": "code",
   "execution_count": 15,
   "id": "d4c60618",
   "metadata": {},
   "outputs": [
    {
     "data": {
      "text/html": [
       "<div>\n",
       "<style scoped>\n",
       "    .dataframe tbody tr th:only-of-type {\n",
       "        vertical-align: middle;\n",
       "    }\n",
       "\n",
       "    .dataframe tbody tr th {\n",
       "        vertical-align: top;\n",
       "    }\n",
       "\n",
       "    .dataframe thead th {\n",
       "        text-align: right;\n",
       "    }\n",
       "</style>\n",
       "<table border=\"1\" class=\"dataframe\">\n",
       "  <thead>\n",
       "    <tr style=\"text-align: right;\">\n",
       "      <th></th>\n",
       "      <th>group</th>\n",
       "      <th>landing_page</th>\n",
       "      <th>converted</th>\n",
       "    </tr>\n",
       "  </thead>\n",
       "  <tbody>\n",
       "    <tr>\n",
       "      <th>0</th>\n",
       "      <td>control</td>\n",
       "      <td>old_page</td>\n",
       "      <td>0</td>\n",
       "    </tr>\n",
       "    <tr>\n",
       "      <th>1</th>\n",
       "      <td>control</td>\n",
       "      <td>old_page</td>\n",
       "      <td>0</td>\n",
       "    </tr>\n",
       "    <tr>\n",
       "      <th>2</th>\n",
       "      <td>control</td>\n",
       "      <td>old_page</td>\n",
       "      <td>0</td>\n",
       "    </tr>\n",
       "    <tr>\n",
       "      <th>3</th>\n",
       "      <td>control</td>\n",
       "      <td>old_page</td>\n",
       "      <td>0</td>\n",
       "    </tr>\n",
       "    <tr>\n",
       "      <th>4</th>\n",
       "      <td>control</td>\n",
       "      <td>old_page</td>\n",
       "      <td>0</td>\n",
       "    </tr>\n",
       "    <tr>\n",
       "      <th>...</th>\n",
       "      <td>...</td>\n",
       "      <td>...</td>\n",
       "      <td>...</td>\n",
       "    </tr>\n",
       "    <tr>\n",
       "      <th>9437</th>\n",
       "      <td>treatment</td>\n",
       "      <td>new_page</td>\n",
       "      <td>0</td>\n",
       "    </tr>\n",
       "    <tr>\n",
       "      <th>9438</th>\n",
       "      <td>treatment</td>\n",
       "      <td>new_page</td>\n",
       "      <td>0</td>\n",
       "    </tr>\n",
       "    <tr>\n",
       "      <th>9439</th>\n",
       "      <td>treatment</td>\n",
       "      <td>new_page</td>\n",
       "      <td>0</td>\n",
       "    </tr>\n",
       "    <tr>\n",
       "      <th>9440</th>\n",
       "      <td>treatment</td>\n",
       "      <td>new_page</td>\n",
       "      <td>0</td>\n",
       "    </tr>\n",
       "    <tr>\n",
       "      <th>9441</th>\n",
       "      <td>treatment</td>\n",
       "      <td>new_page</td>\n",
       "      <td>0</td>\n",
       "    </tr>\n",
       "  </tbody>\n",
       "</table>\n",
       "<p>9442 rows × 3 columns</p>\n",
       "</div>"
      ],
      "text/plain": [
       "          group landing_page  converted\n",
       "0       control     old_page          0\n",
       "1       control     old_page          0\n",
       "2       control     old_page          0\n",
       "3       control     old_page          0\n",
       "4       control     old_page          0\n",
       "...         ...          ...        ...\n",
       "9437  treatment     new_page          0\n",
       "9438  treatment     new_page          0\n",
       "9439  treatment     new_page          0\n",
       "9440  treatment     new_page          0\n",
       "9441  treatment     new_page          0\n",
       "\n",
       "[9442 rows x 3 columns]"
      ]
     },
     "execution_count": 15,
     "metadata": {},
     "output_type": "execute_result"
    }
   ],
   "source": [
    "# Join the two samples.  \n",
    "ab_test = pd.concat([control_sample, treatment_sample], axis=0)  \n",
    "\n",
    "# Reset the A/B index.\n",
    "ab_test.reset_index(drop=True, inplace=True) \n",
    "\n",
    "# Print the sample table.\n",
    "ab_test  "
   ]
  },
  {
   "cell_type": "markdown",
   "id": "c04f8402",
   "metadata": {},
   "source": [
    "## 5. Analyse the data"
   ]
  },
  {
   "cell_type": "code",
   "execution_count": 16,
   "id": "6638a7e3",
   "metadata": {},
   "outputs": [
    {
     "data": {
      "text/html": [
       "<style type=\"text/css\">\n",
       "</style>\n",
       "<table id=\"T_301ef\">\n",
       "  <thead>\n",
       "    <tr>\n",
       "      <th class=\"blank level0\" >&nbsp;</th>\n",
       "      <th id=\"T_301ef_level0_col0\" class=\"col_heading level0 col0\" >conversion_rate</th>\n",
       "      <th id=\"T_301ef_level0_col1\" class=\"col_heading level0 col1\" >std_deviation</th>\n",
       "      <th id=\"T_301ef_level0_col2\" class=\"col_heading level0 col2\" >std_error</th>\n",
       "    </tr>\n",
       "    <tr>\n",
       "      <th class=\"index_name level0\" >group</th>\n",
       "      <th class=\"blank col0\" >&nbsp;</th>\n",
       "      <th class=\"blank col1\" >&nbsp;</th>\n",
       "      <th class=\"blank col2\" >&nbsp;</th>\n",
       "    </tr>\n",
       "  </thead>\n",
       "  <tbody>\n",
       "    <tr>\n",
       "      <th id=\"T_301ef_level0_row0\" class=\"row_heading level0 row0\" >control</th>\n",
       "      <td id=\"T_301ef_row0_col0\" class=\"data row0 col0\" >0.124</td>\n",
       "      <td id=\"T_301ef_row0_col1\" class=\"data row0 col1\" >0.330</td>\n",
       "      <td id=\"T_301ef_row0_col2\" class=\"data row0 col2\" >0.005</td>\n",
       "    </tr>\n",
       "    <tr>\n",
       "      <th id=\"T_301ef_level0_row1\" class=\"row_heading level0 row1\" >treatment</th>\n",
       "      <td id=\"T_301ef_row1_col0\" class=\"data row1 col0\" >0.115</td>\n",
       "      <td id=\"T_301ef_row1_col1\" class=\"data row1 col1\" >0.319</td>\n",
       "      <td id=\"T_301ef_row1_col2\" class=\"data row1 col2\" >0.005</td>\n",
       "    </tr>\n",
       "  </tbody>\n",
       "</table>\n"
      ],
      "text/plain": [
       "<pandas.io.formats.style.Styler at 0x1465a26d0>"
      ]
     },
     "execution_count": 16,
     "metadata": {},
     "output_type": "execute_result"
    }
   ],
   "source": [
    "# Calculate basic statistics.\n",
    "# Import library.\n",
    "# SEM stands for standard error mean.\n",
    "from scipy.stats import sem\n",
    "\n",
    "# Group the ab_test data set by group and aggregate by converted.\n",
    "conversion_rates = ab_test.groupby('group')['converted']\n",
    "\n",
    "# Calculate conversion rates by calculating the means of columns STD_p and SE_p.\n",
    "conversion_rates = conversion_rates.agg([np.mean, np.std, sem])\n",
    "\n",
    "# Assign names to the three columns.\n",
    "conversion_rates.columns = ['conversion_rate', 'std_deviation', 'std_error']  \n",
    "\n",
    "# Round the output to 3 decimal places.\n",
    "conversion_rates.style.format('{:.3f}')"
   ]
  },
  {
   "cell_type": "markdown",
   "id": "e20f24aa",
   "metadata": {},
   "source": [
    " For binary data, the sample mean is what is referred to as the sample poportion, such that adding up the 0 and 1 gives you the total number of 1s (successes). Then when you divide by sample size to give you the sample mean, that equates to sample proportion. \n",
    " \n",
    "- From the table above, 12.4% of those in the control group with the old landing page clicked through.\n",
    "- For the treatment group, 11.5% clicked through <br>\n",
    "\n",
    "To determine whether the the difference is due to chance or is the difference statistically significant? to Detrmine this we perform a formal hypothesis test. \n",
    "\n",
    "__Note__ As The sample size gets bigger the estimate of the population parameters should improve and the standard error should get smaller."
   ]
  },
  {
   "cell_type": "code",
   "execution_count": 17,
   "id": "665db7f1",
   "metadata": {},
   "outputs": [
    {
     "name": "stdout",
     "output_type": "stream",
     "text": [
      "Z test stat: 1.396\n",
      "P-value: 0.163\n",
      "Confidence Interval of 95% for control group: [0.115, 0.134]\n",
      "Confidence Interval of 95% for treatment group: [0.106, 0.124]\n"
     ]
    }
   ],
   "source": [
    "# Calculate statistical significance.\n",
    "# Import proportions_ztest and proportion_confint from statsmodels.\n",
    "from statsmodels.stats.proportion import proportions_ztest, proportion_confint\n",
    "\n",
    "# Create a subset of control and treatment results.\n",
    "control_results = ab_test[ab_test['group'] == 'control']['converted']\n",
    "treatment_results = ab_test[ab_test['group'] == 'treatment']['converted']\n",
    "\n",
    "# Determine the count of the control_results and \n",
    "# treatment_result sub-data sets and store them in their respective variables.\n",
    "n_con = control_results.count()\n",
    "n_treat = treatment_results.count()\n",
    "\n",
    "# Create a variable 'success' with the sum of the two data sets in a list format. \n",
    "# Here we are assuming the null hypothesis to be true.\n",
    "successes = [control_results.sum(), treatment_results.sum()]\n",
    "\n",
    "# Create a variable 'nobs' which stores the values of \n",
    "# variables n_con and n_treat in list format. \n",
    "nobs = [n_con, n_treat] \n",
    "\n",
    "# Use the imported libraries to calculate the statistical values. \n",
    "z_stat, pval = proportions_ztest(successes, nobs=nobs)\n",
    "(lower_con, lower_treat), (upper_con, upper_treat) = proportion_confint(successes,\n",
    "                                                                        nobs=nobs,\n",
    "                                                                        alpha=0.05)\n",
    "\n",
    "# Print the outputs (with lead-in text). The .3f indicates the number of decimal places.\n",
    "print(f\"Z test stat: {z_stat:.3f}\")\n",
    "print(f\"P-value: {pval:.3f}\")\n",
    "print(f\"Confidence Interval of 95% for control group: [{lower_con:.3f}, {upper_con:.3f}]\")\n",
    "print(f\"Confidence Interval of 95% for treatment group: [{lower_treat:.3f}, {upper_treat:.3f}]\")"
   ]
  },
  {
   "cell_type": "markdown",
   "id": "80168b05",
   "metadata": {},
   "source": [
    "## 6. Conclusion"
   ]
  },
  {
   "cell_type": "markdown",
   "id": "8989f0f6",
   "metadata": {},
   "source": [
    "In a z-test, under the null hypothesis the test statistic follows approximately a standard normal distrubution. \n",
    "\n",
    "The p-value is the probability of the test statistic value or a more extreme value, conditional on the null hypothesis being true. As the test above is a two sided t-test, the p value is the probablity of being greater then 1.396 or under -1.396. \n",
    "\n",
    "Calculating the standard normal distrubution = 0.081357, which represents the area in the lower tail of the normal distrubution. As its a two sided test, the total p-value is the sum of the two areas (symmetry of distrubution) = 0.163. \n",
    "\n",
    "Our results indicated a $p=0.163$ (16.3%) with an $alpha=0.05$. Therefore, we cannot reject the $H_0$. The $p$-values summarise statistical differences, essentially calculating the probability that the data could deviate from $H_0$. A $p=0.163$ (16.3%) suggests that the new design did not perform better than the old design, we do not have a difference in effective of conversions of the new landing page. The confidence interval for the treatment group does not reach 13%, never mind the desired 15%, confirming that the new website design was altogether ineffective in increasing the conversion rate.\n",
    "\n",
    "This means 1 of 2 things has happened: \n",
    "1. Correct non-rejection of null hypothesis, the two landing pages are equally effective. \n",
    "2. Type 2 error, a false negative\n",
    "\n",
    "Given the 80% power we had for the test, this means that if the altnerative hypothesis is true and we did not reject the null hypothesis, there was a 20% probability of a type 2 error.\n",
    "\n",
    "\n",
    "Although the website redesign did not result in a higher conversion rate, the result of the test does not necessarily need to be seen as a failure. The non-rejection of the $H_0$ simply means that there isn’t enough statistical evidence to disprove the hypothesis. In theory, we can repeat the test with a different sample size, or a change in the confidence levels. If we continualy get the same test results, it is likely that there is not type 1 or type 2 errors. \n",
    "\n",
    "The e-commerce company now knows that maybe it isn’t the homepage design that is discouraging users from taking desired actions. There could also be invalid assumptions in the test itself. With this in mind, the company can reconsider how to either improve the conversion rate such as changes in pricing or range of products on offer, or run more tests."
   ]
  }
 ],
 "metadata": {
  "kernelspec": {
   "display_name": "Python 3 (ipykernel)",
   "language": "python",
   "name": "python3"
  },
  "language_info": {
   "codemirror_mode": {
    "name": "ipython",
    "version": 3
   },
   "file_extension": ".py",
   "mimetype": "text/x-python",
   "name": "python",
   "nbconvert_exporter": "python",
   "pygments_lexer": "ipython3",
   "version": "3.11.3"
  }
 },
 "nbformat": 4,
 "nbformat_minor": 5
}
